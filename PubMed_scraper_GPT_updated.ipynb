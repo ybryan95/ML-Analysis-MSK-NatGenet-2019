{
 "cells": [
  {
   "cell_type": "markdown",
   "id": "94c4822e",
   "metadata": {
    "id": "94c4822e"
   },
   "source": [
    "<div style=\"background-color:lightgrey; padding:10px\">\n",
    "\n",
    "# <font color='red'> Quick Navigate </font>\n",
    "1. [New content addition](#new-content)\n",
    "\n",
    "</div>\n"
   ]
  },
  {
   "cell_type": "markdown",
   "id": "d722b633",
   "metadata": {
    "id": "d722b633"
   },
   "source": [
    "## GPT Article-Filter Version PubMed_scraper_GPT\n",
    "\n",
    "In this notebook, we utilize several libraries including `langchain`, `nltk`, `openai`, `pymed`, `Bio` among others, to filter articles based on specific criteria.\n",
    "\n",
    "The environment variable 'OPENAI_API_KEY' is set and the base API for `openai` is updated to \"https://fmops.ai/api/v1/proxy/openai/v1\".\n",
    "\n",
    "Below are the libraries used:\n",
    "\n",
    "1. `langchain` : Used for creating conversational AI models.\n",
    "\n",
    "2. `nltk` : Natural Language Toolkit, used for working with human language data.\n",
    "\n",
    "3. `openai` : Used to access the OpenAI API for generating human-like text.\n",
    "\n",
    "4. `os` : The OS module in Python provides functions for interacting with the operating system.\n",
    "\n",
    "5. `pymed` : Python wrapper for the PubMed Open Access database.\n",
    "\n",
    "6. `pandas` : A data manipulation and analysis library.\n",
    "\n",
    "7. `re` : Python's built-in module to work with Regular Expressions.\n",
    "\n",
    "8. `time` : This module provides various time-related functions.\n",
    "\n",
    "9. `requests` : Used for making HTTP requests in Python.\n",
    "\n",
    "10. `Bio` : Biopython is a set of freely available tools for biological computation.\n",
    "\n",
    "11. `docx` : Python library for creating and updating Microsoft Word (.docx) files.\n",
    "\n",
    "12. `spacy` : Library for advanced Natural Language Processing.\n",
    "\n",
    "13. `wordcloud` : A word cloud (or tag cloud) is a visual representation of text data.\n",
    "\n",
    "14. `docx.shared` : Allows sharing of certain common functions, classes and submodules.\n"
   ]
  },
  {
   "cell_type": "code",
   "execution_count": null,
   "id": "aab881b1",
   "metadata": {
    "id": "aab881b1",
    "outputId": "c3f7f450-3dc8-48cb-efd6-93491f87ded5"
   },
   "outputs": [
    {
     "name": "stderr",
     "output_type": "stream",
     "text": [
      "[nltk_data] Downloading package punkt to\n",
      "[nltk_data]     C:\\Users\\choyo\\AppData\\Roaming\\nltk_data...\n",
      "[nltk_data]   Package punkt is already up-to-date!\n",
      "[nltk_data] Downloading package vader_lexicon to\n",
      "[nltk_data]     C:\\Users\\choyo\\AppData\\Roaming\\nltk_data...\n",
      "[nltk_data]   Package vader_lexicon is already up-to-date!\n"
     ]
    },
    {
     "data": {
      "text/plain": [
       "True"
      ]
     },
     "execution_count": 1,
     "metadata": {},
     "output_type": "execute_result"
    }
   ],
   "source": [
    "#GPT Article-Filter Version\n",
    "from langchain import OpenAI, ConversationChain, LLMChain, PromptTemplate\n",
    "from langchain.memory import ConversationBufferWindowMemory\n",
    "from langchain.chat_models import ChatOpenAI\n",
    "import nltk\n",
    "from nltk import tokenize\n",
    "from nltk.sentiment.vader import SentimentIntensityAnalyzer\n",
    "import openai\n",
    "import os\n",
    "from pymed import PubMed\n",
    "import pandas as pd\n",
    "import re\n",
    "import time\n",
    "import requests\n",
    "from Bio import Entrez\n",
    "from docx import Document\n",
    "import spacy\n",
    "from wordcloud import WordCloud\n",
    "from docx.shared import Inches\n",
    "\n",
    "os.environ['OPENAI_API_KEY'] = 'Your OPENAI API Here'\n",
    "openai.api_base = \"https://fmops.ai/api/v1/proxy/openai/v1\"\n",
    "\n",
    "nltk.download('punkt')\n",
    "nltk.download('vader_lexicon')"
   ]
  },
  {
   "cell_type": "markdown",
   "id": "f57123ec",
   "metadata": {
    "id": "f57123ec"
   },
   "source": [
    "## Creating Templates for Context and Gene\n",
    "\n",
    "In this part of the code, we create templates that will be used to provide a structured form of interaction with the AI model. The templates are designed in such a way that they define how a conversation or question should be structured.\n",
    "\n",
    "The **first template** is `template_Context`, it is used to ask the AI to explain what a certain gene is based on the provided text. The text is passed as the `abstract` variable and the gene is passed as the `gene` variable.\n",
    "\n",
    "The **second template** `template_Gene1` is used to ask the AI if a certain gene is used in the context of a full name gene or as a transcription factor based on a provided sentence.\n",
    "\n",
    "Each template is attached to a `PromptTemplate` which is then used by an `LLMChain` object to create a language model. The `LLMChain` uses `ChatOpenAI` model with a temperature of 0, which means the output will be deterministic and less random."
   ]
  },
  {
   "cell_type": "code",
   "execution_count": null,
   "id": "bbe20bc2",
   "metadata": {
    "id": "bbe20bc2"
   },
   "outputs": [],
   "source": [
    "template_Context = \"\"\"<Question: Explain in detail what {gene} is in the Text Provided?><Text: {abstract}>\n",
    "Your Answer(Do not use abbreviation):\"\"\"\n",
    "\n",
    "prompt_Context = PromptTemplate(\n",
    "    input_variables=[\"abstract\", \"gene\"],\n",
    "    template=template_Context,\n",
    ")\n",
    "\n",
    "keyword_Context = LLMChain(\n",
    "    llm=ChatOpenAI(temperature=0),\n",
    "    prompt=prompt_Context\n",
    ")\n",
    "\n",
    "#-----------------------------\n",
    "template_Gene1 = \"\"\"\n",
    "<Is {gene} in the provided Text used in the context {fullName} gene or transcription factor?\n",
    "Say no if Text says not mentioned or does not appear)]>\n",
    "<Text: {sentence}>\n",
    "Your Answer(Yes or No only):\"\"\"\n",
    "\n",
    "prompt_Gene1 = PromptTemplate(\n",
    "    input_variables=[\"sentence\", \"gene\", \"fullName\"],\n",
    "    template=template_Gene1,\n",
    ")\n",
    "\n",
    "is_Gene = LLMChain(\n",
    "    llm=ChatOpenAI(temperature=0),\n",
    "    prompt=prompt_Gene1\n",
    ")\n",
    "\n"
   ]
  },
  {
   "cell_type": "markdown",
   "id": "971c8d72",
   "metadata": {
    "id": "971c8d72"
   },
   "source": [
    "## Defining Supporting Functions\n",
    "\n",
    "A set of supporting functions are defined in this portion of the code. They serve various purposes, including search term generation, gene name fetching, information extraction, text cleaning, abstract fetching, and word cloud generation. These functions are critical in processing and transforming the data for further use.\n",
    "\n",
    "1. **gene_to_search**: This function generates search terms for a given gene and its full name. The search terms are constructed for PubMed search with a focus on Autism but excludes references to Cancer and Tumor.\n",
    "\n",
    "2. **gene_fullName**: This function retrieves the full name of a gene given its abbreviation by making a request to the 'mygene.info' API.\n",
    "\n",
    "3. **extract_geneInfo**: This function extracts the gene information from a given query string.\n",
    "\n",
    "4. **remove_html_tags**: This function removes HTML tags from a given text string.\n",
    "\n",
    "5. **fetch_abstract**: This function fetches the abstract of a paper from PubMed given its PMID.\n",
    "\n",
    "6. **generate_wordcloud**: This function generates a word cloud given an input text. The word cloud is based on gene names, entities of certain types, and certain patterns in the text.\n"
   ]
  },
  {
   "cell_type": "code",
   "execution_count": null,
   "id": "17ee9d8b",
   "metadata": {
    "id": "17ee9d8b"
   },
   "outputs": [],
   "source": [
    "def gene_to_search(element, fullName):\n",
    "    ls = []\n",
    "    ls.append(\"(\" + element + \"[Title/Abstract]) AND ((PD-1[Title/Abstract]) OR (PDL-1[Title/Abstract]) \\\n",
    "             OR (CTLA4[Title/Abstract])) AND (Cancer[Title/Abstract])\")\n",
    "\n",
    "    ls.append(\"(\" + fullName + \"[Title/Abstract]) AND ((PD-1[Title/Abstract]) OR (PDL-1[Title/Abstract]) \\\n",
    "             OR (CTLA4[Title/Abstract])) AND (Cancer[Title/Abstract])\")\n",
    "\n",
    "    return ls\n",
    "\n",
    "def gene_fullName(gene_abbr):\n",
    "    url = f'https://mygene.info/v3/query?q=symbol:{gene_abbr}&fields=name'\n",
    "    time.sleep(0.1)\n",
    "    response = requests.get(url)\n",
    "    data = response.json()\n",
    "\n",
    "    return data['hits'][0]['name']\n",
    "\n",
    "def extract_geneInfo(query):\n",
    "    split_query = query.split('(')\n",
    "    gene_info = split_query[1].split('[Title/Abstract]')\n",
    "    return gene_info[0]\n",
    "\n",
    "def remove_html_tags(text):\n",
    "    clean = re.compile('<.*?>')\n",
    "    return re.sub(clean, '', text)\n",
    "\n",
    "def fetch_abstract(pmid):\n",
    "    handle = Entrez.efetch(db=\"pubmed\", id=pmid, rettype=\"xml\")\n",
    "    records = Entrez.read(handle)\n",
    "    try:\n",
    "        abstract_sections = records[\"PubmedArticle\"][0][\"MedlineCitation\"][\"Article\"][\"Abstract\"][\"AbstractText\"]\n",
    "        abstract = \"\\n\".join(str(section) for section in abstract_sections)\n",
    "    except KeyError:\n",
    "        abstract = \"No abstract available\"\n",
    "    return abstract\n",
    "\n",
    "def generate_wordcloud(input_text, nlp1, nlp2, nlp3):\n",
    "    doc1 = nlp1(input_text)\n",
    "    doc2 = nlp2(input_text)\n",
    "    doc3 = nlp3(input_text)\n",
    "\n",
    "    gene_pattern = r\"^[A-Z]{1}[A-Za-z0-9_-]*[A-Za-z]{1}[A-Za-z0-9_-]*$\"\n",
    "    genes = [token.text for token in doc2 if re.match(gene_pattern, token.text) and token.pos_ == 'NOUN']\n",
    "\n",
    "    entities1 = ['_'.join(ent.text.split()) for ent in doc1.ents if ent.label_ in\n",
    "                 {'ORGAN', 'CELL', 'DEVELOPING_ANATOMICAL_STRUCTURE', 'PATHOLOGICAL_FORMATION'}]\n",
    "    entities2 = ['_'.join(ent.text.split()) for ent in doc2.ents if ent.label_ in\n",
    "                 {'DISEASE'}]\n",
    "    entities3 = [ent.text for ent in doc2.ents if ent.label_ in\n",
    "                 {'TAXON'}]\n",
    "    combined_entities = genes + entities1 + entities2 + entities3\n",
    "\n",
    "    stem_cell_pattern = re.compile(r'\\bstem cell\\b', re.IGNORECASE)\n",
    "    ipsc_pattern = re.compile(r'\\bipsc\\b', re.IGNORECASE)\n",
    "    if re.search(stem_cell_pattern, input_text):\n",
    "        combined_entities.append('stem_cell')\n",
    "    if re.search(ipsc_pattern, input_text):\n",
    "        combined_entities.append('iPSC')\n",
    "\n",
    "    filtered_entities = []\n",
    "    for entity in combined_entities:\n",
    "        if not any([entity in other_entity and entity != other_entity for other_entity in combined_entities]):\n",
    "            filtered_entities.append(entity)\n",
    "\n",
    "    filtered_text = ' '.join(filtered_entities)\n",
    "\n",
    "    if not filtered_text:\n",
    "        img = Image.new('RGB', (400, 200), color='white')\n",
    "        return img\n",
    "\n",
    "    wordcloud = WordCloud(background_color='white', max_words=100, contour_width=3, contour_color='steelblue')\n",
    "    wordcloud.generate(filtered_text)\n",
    "\n",
    "    return wordcloud\n"
   ]
  },
  {
   "cell_type": "markdown",
   "id": "cb96ca95",
   "metadata": {
    "id": "cb96ca95"
   },
   "source": [
    "## Defining Main Functions\n",
    "\n",
    "These main functions serve to search queries, analyze articles, and process extracted sentences.\n",
    "\n",
    "1. **search_Query_GPT**: This function uses a query to search PubMed for articles, fetches the articles' abstracts and other relevant information, applies filters, and stores the results in a DataFrame.\n",
    "\n",
    "2. **article_Interest**: This function analyzes the abstracts, predicts the context and gene information, and calculates an interest score using sentiment analysis.\n",
    "\n",
    "3. **extract_Sentences**: This function extracts sentences from the text containing a target keyword or an abbreviation in parentheses, and then processes them to remove unwanted details and redundancies.\n"
   ]
  },
  {
   "cell_type": "code",
   "execution_count": null,
   "id": "d465b8e7",
   "metadata": {
    "id": "d465b8e7"
   },
   "outputs": [],
   "source": [
    "def search_Query_GPT(query, gene, fullName, keyword_Context_GPT, is_Gene_GPT):\n",
    "    Entrez.email = \"choyoungb@gmail.com\"\n",
    "    time.sleep(0.2)\n",
    "    handle = Entrez.esearch(db=\"pubmed\", term=query, retmax=5000)\n",
    "    record = Entrez.read(handle)\n",
    "    pmid_list = record[\"IdList\"]\n",
    "    article_list = []\n",
    "    element = extract_geneInfo(query)\n",
    "\n",
    "    for pmid in pmid_list:\n",
    "        try:\n",
    "            time.sleep(0.2)\n",
    "            handle = Entrez.efetch(db=\"pubmed\", id=pmid, rettype=\"xml\")\n",
    "            time.sleep(0.2)\n",
    "            records = Entrez.read(handle)\n",
    "\n",
    "            try:\n",
    "                title = records[\"PubmedArticle\"][0][\"MedlineCitation\"][\"Article\"][\"ArticleTitle\"]\n",
    "                title = remove_html_tags(title)\n",
    "                pub_date = records[\"PubmedArticle\"][0][\"MedlineCitation\"][\"Article\"][\"Journal\"][\"JournalIssue\"][\"PubDate\"]\n",
    "                article_ids = records[\"PubmedArticle\"][0][\"PubmedData\"][\"ArticleIdList\"]\n",
    "                doi_url = \"NA\"\n",
    "                # The PubDate field can be a dictionary with 'Year', 'Month', and 'Day' keys, or just a 'Year' key\n",
    "                for article_id in article_ids:\n",
    "                    if article_id.attributes[\"IdType\"] == \"doi\":\n",
    "                        doi_url = \"https://doi.org/\" + article_id\n",
    "                if 'Year' in pub_date:\n",
    "                        year = pub_date['Year']\n",
    "                else:\n",
    "                    year = None\n",
    "                url = f\"https://pubmed.ncbi.nlm.nih.gov/{pmid}\"\n",
    "                full_abstract = fetch_abstract(pmid)\n",
    "                full_abstract = remove_html_tags(full_abstract) if full_abstract else ''\n",
    "                title_and_abstract = title + full_abstract\n",
    "\n",
    "                #check if any lower cased homonyms are detected.\n",
    "                if element.isupper() and not re.search(r'\\d', element):\n",
    "                    if gene not in title_and_abstract:\n",
    "                        continue\n",
    "\n",
    "                    if fullName.lower() in title_and_abstract.lower() or (len(gene) >= 4 or re.search(r'\\d', gene)):\n",
    "                        pass\n",
    "                    else:\n",
    "                        print(\"------------------------------------------\")\n",
    "                        print(url)\n",
    "                        temp = extract_Sentences(title_and_abstract, gene)\n",
    "                        time.sleep(0.2)\n",
    "                        score = article_Interest(gene, temp, fullName, keyword_Context_GPT,is_Gene_GPT)\n",
    "                        print('▶ ' + str(score))\n",
    "                        # Check if score is 1\n",
    "                        if score <= 0:\n",
    "                            continue\n",
    "\n",
    "                article_dict = {'info': \"Url: \" + url + \"\\n\" + \"DOI: \" + doi_url + \"\\n\\n\" + \"Title(\" + year + \"): \"\n",
    "                                + title + \"\\n\\n\" + full_abstract + \"\\n\\n\"}\n",
    "                article_list.append(article_dict)\n",
    "\n",
    "\n",
    "            except IndexError:\n",
    "                print(f\"|Detected Excerpt, not an abstract, or no doi, with PMID:{pmid}|\")\n",
    "                continue\n",
    "\n",
    "        except Exception as e:\n",
    "            print(f\"|Detected Excerpt, not an abstract, or no doi, with PMID:{pmid}|\")\n",
    "            print(e)\n",
    "\n",
    "    search_df = pd.DataFrame(article_list)\n",
    "    return search_df\n",
    "\n",
    "def article_Interest(gene, full_Abstract, fullName, keyword_Context_GPT, is_Gene_GPT):\n",
    "    time.sleep(0.3)\n",
    "    AI_Context = keyword_Context_GPT.predict(abstract=full_Abstract, gene=gene)\n",
    "    time.sleep(0.3)\n",
    "    AI_Gene = is_Gene_GPT.predict(sentence=AI_Context, gene=gene, fullName=fullName)\n",
    "\n",
    "    print(AI_Context)\n",
    "    print('▶ ' + AI_Gene)\n",
    "    sid = SentimentIntensityAnalyzer()\n",
    "    article_Score = sid.polarity_scores(AI_Gene)\n",
    "    interest_Score = article_Score['compound']\n",
    "\n",
    "    return 1 if interest_Score > 0 else 0\n",
    "\n",
    "\n",
    "def extract_Sentences(text, target_keyword):\n",
    "    sentences = re.split(r'(?<!\\w\\.\\w.)(?<![A-Z][a-z]\\.)(?<=\\.|\\?)\\s', text)\n",
    "    keyword_sentences = [sentence for sentence in sentences if target_keyword in sentence]\n",
    "    processed_sentences = []\n",
    "    abbreviation = []\n",
    "\n",
    "    for sentence in keyword_sentences:\n",
    "        if sentence.count(',') > 2:\n",
    "            temp = sentence.split(',')\n",
    "\n",
    "            keyword_index = -1\n",
    "            for i, part in enumerate(temp):\n",
    "                if target_keyword in part:\n",
    "                    keyword_index = i\n",
    "                    break\n",
    "\n",
    "            temp = [temp[0], temp[keyword_index], temp[-1]]\n",
    "\n",
    "            processed_sentences.append(','.join(temp))\n",
    "        else:\n",
    "            processed_sentences.append(sentence)\n",
    "\n",
    "    # Find sentences containing single-word abbreviations in parentheses\n",
    "    abbreviation_sentences = [sentence for sentence in sentences if re.search(r'\\([A-Za-z]+\\)', sentence)]\n",
    "\n",
    "    # Process abbreviation sentences\n",
    "    for sentence in abbreviation_sentences:\n",
    "        if sentence.count(',') > 2:\n",
    "            temp = sentence.split(',')\n",
    "\n",
    "            abbreviation_index = -1\n",
    "            for i, part in enumerate(temp):\n",
    "                if re.search(r'\\([A-Za-z]+\\)', part):\n",
    "                    abbreviation_index = i\n",
    "                    break\n",
    "\n",
    "            temp = [temp[0], temp[abbreviation_index], temp[-1]]\n",
    "\n",
    "            abbreviation.append(','.join(temp))\n",
    "        else:\n",
    "            abbreviation.append(sentence)\n",
    "\n",
    "    combined_text = ' '.join(abbreviation + processed_sentences)\n",
    "    # Remove words encapsulated in parentheses and any extra whitespace\n",
    "    cleaned_text = re.sub(r'\\s\\([A-Za-z]+\\)', '', combined_text)\n",
    "\n",
    "    # Remove abbreviations from the cleaned text\n",
    "    for abbr in abbreviation:\n",
    "        cleaned_text = cleaned_text.replace(abbr, '')\n",
    "\n",
    "    return cleaned_text"
   ]
  },
  {
   "cell_type": "markdown",
   "id": "d3e2dd29",
   "metadata": {
    "id": "d3e2dd29"
   },
   "source": [
    "## Loading Spacy Models\n",
    "\n",
    "Here, we load three different models from SpaCy for named entity recognition. This step may take some time due to the size of the models.\n",
    "\n",
    "- `en_ner_bionlp13cg_md`: This model is trained on the BioNLP 13CG corpus and is suitable for recognizing various biomedical named entities.\n",
    "- `en_ner_bc5cdr_md`: This model is trained on the BC5CDR corpus, which focuses on recognizing chemical and disease named entities.\n",
    "- `en_ner_craft_md`: This model is trained on the CRAFT corpus, providing good performance for a broader range of biomedical named entities.\n",
    "\n"
   ]
  },
  {
   "cell_type": "code",
   "execution_count": null,
   "id": "91b468ae",
   "metadata": {
    "id": "91b468ae"
   },
   "outputs": [],
   "source": [
    "#This step takes time\n",
    "nlp1 = spacy.load(\"en_ner_bionlp13cg_md\")\n",
    "nlp2 = spacy.load(\"en_ner_bc5cdr_md\")\n",
    "nlp3 = spacy.load(\"en_ner_craft_md\")"
   ]
  },
  {
   "cell_type": "markdown",
   "id": "d9f7b8db",
   "metadata": {
    "id": "d9f7b8db"
   },
   "source": [
    "## Setting up PubMed and Loading Gene List\n",
    "\n",
    "1. We first setup the `PubMed` tool by passing our tool name (`\"MyTool\"`) and an email address. Replace `\"choyoungb@gmail.com\"` with the email that you used to register on PubMed."
   ]
  },
  {
   "cell_type": "code",
   "execution_count": null,
   "id": "df83f60a",
   "metadata": {
    "id": "df83f60a",
    "outputId": "3ace1023-d6d3-4371-983a-9de4a0cd2d56"
   },
   "outputs": [
    {
     "name": "stdout",
     "output_type": "stream",
     "text": [
      "['WT1', 'MYD88', 'KLF4', 'BLM', 'BRD4', 'RAF1', 'SMAD2', 'NEGR1', 'IRS2', 'ASXL2']\n"
     ]
    },
    {
     "data": {
      "text/plain": [
       "10"
      ]
     },
     "execution_count": 7,
     "metadata": {},
     "output_type": "execute_result"
    }
   ],
   "source": [
    "# Replace email that you use for pubmed login\n",
    "pubmed = PubMed(tool=\"MyTool\", email=\"choyoungb@gmail.com\")  # change to your email\n",
    "\n",
    "# Replace tf with your list of gene names\n",
    "tf = ['WT1', 'MYD88', 'KLF4', 'BLM', 'BRD4', 'RAF1', 'SMAD2', 'NEGR1', 'IRS2', 'ASXL2']  # list of the first five genes\n",
    "print(tf)\n",
    "len(tf)"
   ]
  },
  {
   "cell_type": "markdown",
   "id": "ca93588e",
   "metadata": {
    "id": "ca93588e"
   },
   "source": [
    "## Data Processing and Document Generation\n",
    "\n",
    "The following steps are performed in this code block:\n",
    "\n",
    "1. **Initialize DataFrame**: We start by initializing an empty pandas DataFrame with columns 'gene' and 'info'.\n",
    "\n",
    "2. **Search and Process Genes**: For each gene in our transcription factors (tf) list, we conduct a search using the GPT model. The search results are stored in the DataFrame. If the gene does not exist in the 'gene' column of the DataFrame, we append it. Otherwise, we simply concatenate the new data with the existing DataFrame.\n",
    "\n",
    "3. **DataFrame Completion**: After processing all the genes and completing our DataFrame, we print a message indicating the completion of the DataFrame.\n",
    "\n",
    "4. **Document Initiation**: We then initiate a Word Document and add a table to it.\n",
    "\n",
    "5. **Word Cloud Generation and Insertion**: For each row in our DataFrame, we generate a word cloud from the 'info' column, save it as an image, and insert this image into our Word Document.\n",
    "\n",
    "6. **Document Saving**: Once we've processed all the rows in the DataFrame and inserted the corresponding word clouds, we save our Word Document and print a message indicating the completion of the document.\n"
   ]
  },
  {
   "cell_type": "code",
   "execution_count": null,
   "id": "dabc056d",
   "metadata": {
    "id": "dabc056d",
    "outputId": "c0cfc84e-5d09-4abf-975a-f6fd6224d07f"
   },
   "outputs": [
    {
     "name": "stdout",
     "output_type": "stream",
     "text": [
      "(WT1[Title/Abstract]) AND ((PD-1[Title/Abstract]) OR (PDL-1[Title/Abstract])              OR (CTLA4[Title/Abstract])) AND (Cancer[Title/Abstract])\n",
      "(WT1 transcription factor[Title/Abstract]) AND ((PD-1[Title/Abstract]) OR (PDL-1[Title/Abstract])              OR (CTLA4[Title/Abstract])) AND (Cancer[Title/Abstract])\n",
      "(MYD88[Title/Abstract]) AND ((PD-1[Title/Abstract]) OR (PDL-1[Title/Abstract])              OR (CTLA4[Title/Abstract])) AND (Cancer[Title/Abstract])\n",
      "(MYD88 innate immune signal transduction adaptor[Title/Abstract]) AND ((PD-1[Title/Abstract]) OR (PDL-1[Title/Abstract])              OR (CTLA4[Title/Abstract])) AND (Cancer[Title/Abstract])\n",
      "(KLF4[Title/Abstract]) AND ((PD-1[Title/Abstract]) OR (PDL-1[Title/Abstract])              OR (CTLA4[Title/Abstract])) AND (Cancer[Title/Abstract])\n",
      "(KLF transcription factor 4[Title/Abstract]) AND ((PD-1[Title/Abstract]) OR (PDL-1[Title/Abstract])              OR (CTLA4[Title/Abstract])) AND (Cancer[Title/Abstract])\n",
      "(BLM[Title/Abstract]) AND ((PD-1[Title/Abstract]) OR (PDL-1[Title/Abstract])              OR (CTLA4[Title/Abstract])) AND (Cancer[Title/Abstract])\n",
      "------------------------------------------\n",
      "https://pubmed.ncbi.nlm.nih.gov/33328484\n",
      "BLM, in the context of the provided text, refers to a DNA repair gene called Bloom syndrome protein. Bloom syndrome is a rare genetic disorder characterized by short stature, sun-sensitive skin changes, an increased risk of cancer, and other health problems. The BLM gene provides instructions for making a protein that is involved in repairing damaged DNA.\n",
      "\n",
      "In this study, the researchers investigated the frequency of DNA repair gene aberrations, including BLM, in gallbladder cancer (GBC). They performed comprehensive genomic profiling of 760 GBC samples to identify any genetic abnormalities in 19 DNA repair genes, including BLM.\n",
      "\n",
      "The researchers also examined the expression of programmed death-ligand 1 (PD-L1), which is a protein that can be found on the surface of cancer cells and can help them evade the immune system. PD-L1 expression is important because it can be targeted by certain immunotherapies.\n",
      "\n",
      "Based on the results of the genomic profiling, the researchers classified the patients into three groups based on the tumor mutational burden (TMB) level. TMB refers to the number of mutations present in the DNA of a tumor. The three groups were low TMB (< 5.5 mutations per megabase), intermediate TMB, and high TMB (≥ 19.5 mutations per megabase).\n",
      "\n",
      "Overall, the study aimed to determine the frequency of DNA repair gene aberrations, including BLM, in gallbladder cancer and to assess the expression of PD-L1. This information could potentially have prognostic value and help guide treatment decisions, as DNA repair gene aberrations can be targeted with specific therapies, and PD-L1 expression can indicate the potential effectiveness of immunotherapies.\n",
      "▶ Yes\n",
      "▶ 1\n",
      "------------------------------------------\n",
      "https://pubmed.ncbi.nlm.nih.gov/32778095\n",
      "BLM, in the context of the provided text, stands for breast cancer, CDK12, and BLM. It is mentioned as one of the types of solid cancers that will be included in a phase II study assessing the efficacy and safety of the combination of olaparib, durvalumab, and tremelimumab (referred to as olaparib/D/T association).\n",
      "\n",
      "Breast cancer is a type of cancer that forms in the cells of the breast. It is one of the most common types of cancer among women. CDK12 refers to a gene called cyclin-dependent kinase 12, which has been found to be mutated in certain types of cancer, including breast cancer. Mutations in the CDK12 gene can affect the growth and division of cancer cells.\n",
      "\n",
      "BLM, in this context, could refer to a specific subtype or characteristic of breast cancer that is being targeted in the study. However, without further information, it is not possible to provide a more specific explanation of what BLM represents in this text.\n",
      "▶ No\n",
      "▶ 0\n",
      "------------------------------------------\n",
      "https://pubmed.ncbi.nlm.nih.gov/32342665\n",
      "BLM, in the context of the provided text, refers to a specific gene mutation that occurs in non-small cell lung cancer (NSCLC) patients. The relationship between the efficacy of immunotherapy and characteristics of specific tumor mutation genes, including BLM, is being studied in order to guide the choice of immunotherapy population and maximize the benefit for NSCLC patients.\n",
      "\n",
      "Immunotherapy, specifically immune checkpoint inhibitors (ICIs), has significantly improved the prognosis and overall management of NSCLC patients. However, it has been observed that less than 20% of patients actually benefit from treatment with ICIs in the long term. This highlights the need to identify biomarkers that can help predict which patients will respond positively to immunotherapy.\n",
      "\n",
      "In this study, the researchers analyzed tumor pathological tissues from NSCLC patients to identify tumor mutation genes. These genes are specific genetic alterations that occur within the tumor cells. By evaluating the efficacy of immunotherapy in these patients according to RECIST 1.1 criteria, the researchers were able to categorize the patients into two groups: the durable benefit group and the nonsustainable benefit group.\n",
      "\n",
      "One of the specific gene mutations that was identified in the tumor tissues is the BLM mutation. The BLM gene is known to be associated with certain types of cancer, including NSCLC. The presence of this mutation in 4.55% of the patients suggests that it may play a role in the response to immunotherapy.\n",
      "\n",
      "Further analysis and research are needed to understand the exact relationship between the BLM gene mutation and the efficacy of immunotherapy in NSCLC patients. By studying the characteristics of specific tumor mutation genes like BLM, researchers aim to identify biomarkers that can help predict which patients are more likely to benefit from immunotherapy, ultimately improving treatment outcomes for NSCLC patients.\n",
      "▶ Yes\n",
      "▶ 1\n",
      "------------------------------------------\n",
      "https://pubmed.ncbi.nlm.nih.gov/28254786\n",
      "BLM, in the context of the provided text, refers to a protein involved in the DNA damage response. The investigation mentioned in the text aimed to study the expression of various proteins, including ATM and BLM, in breast cancers.\n",
      "\n",
      "BLM, also known as Bloom syndrome protein, plays a crucial role in maintaining genomic stability by participating in DNA repair processes. It belongs to the RecQ family of DNA helicases, which are enzymes involved in unwinding DNA strands during replication, recombination, and repair.\n",
      "\n",
      "The study mentioned in the text involved analyzing the expression of BLM protein in a cohort of 269 breast cancers. The researchers aimed to understand the role of BLM in the DNA damage response in these cancers. Additionally, the findings were validated in an independent cohort of estrogen receptor-negative breast cancers, consisting of 279 samples.\n",
      "\n",
      "By investigating the expression of BLM and other proteins involved in the DNA damage response, the researchers aimed to gain insights into the molecular mechanisms underlying breast cancer development and progression. Understanding the role of BLM in DNA repair processes could potentially lead to the development of targeted therapies or diagnostic markers for breast cancer.\n",
      "▶ Yes\n",
      "▶ 1\n",
      "(BLM RecQ like helicase[Title/Abstract]) AND ((PD-1[Title/Abstract]) OR (PDL-1[Title/Abstract])              OR (CTLA4[Title/Abstract])) AND (Cancer[Title/Abstract])\n",
      "(BRD4[Title/Abstract]) AND ((PD-1[Title/Abstract]) OR (PDL-1[Title/Abstract])              OR (CTLA4[Title/Abstract])) AND (Cancer[Title/Abstract])\n",
      "(bromodomain containing 4[Title/Abstract]) AND ((PD-1[Title/Abstract]) OR (PDL-1[Title/Abstract])              OR (CTLA4[Title/Abstract])) AND (Cancer[Title/Abstract])\n",
      "(RAF1[Title/Abstract]) AND ((PD-1[Title/Abstract]) OR (PDL-1[Title/Abstract])              OR (CTLA4[Title/Abstract])) AND (Cancer[Title/Abstract])\n",
      "(Raf 1 proto oncogene  serine threonine kinase[Title/Abstract]) AND ((PD-1[Title/Abstract]) OR (PDL-1[Title/Abstract])              OR (CTLA4[Title/Abstract])) AND (Cancer[Title/Abstract])\n",
      "(SMAD2[Title/Abstract]) AND ((PD-1[Title/Abstract]) OR (PDL-1[Title/Abstract])              OR (CTLA4[Title/Abstract])) AND (Cancer[Title/Abstract])\n"
     ]
    },
    {
     "name": "stdout",
     "output_type": "stream",
     "text": [
      "(SMAD family member 2[Title/Abstract]) AND ((PD-1[Title/Abstract]) OR (PDL-1[Title/Abstract])              OR (CTLA4[Title/Abstract])) AND (Cancer[Title/Abstract])\n",
      "(NEGR1[Title/Abstract]) AND ((PD-1[Title/Abstract]) OR (PDL-1[Title/Abstract])              OR (CTLA4[Title/Abstract])) AND (Cancer[Title/Abstract])\n",
      "(neuronal growth regulator 1[Title/Abstract]) AND ((PD-1[Title/Abstract]) OR (PDL-1[Title/Abstract])              OR (CTLA4[Title/Abstract])) AND (Cancer[Title/Abstract])\n",
      "(IRS2[Title/Abstract]) AND ((PD-1[Title/Abstract]) OR (PDL-1[Title/Abstract])              OR (CTLA4[Title/Abstract])) AND (Cancer[Title/Abstract])\n",
      "(insulin receptor substrate 2[Title/Abstract]) AND ((PD-1[Title/Abstract]) OR (PDL-1[Title/Abstract])              OR (CTLA4[Title/Abstract])) AND (Cancer[Title/Abstract])\n",
      "(ASXL2[Title/Abstract]) AND ((PD-1[Title/Abstract]) OR (PDL-1[Title/Abstract])              OR (CTLA4[Title/Abstract])) AND (Cancer[Title/Abstract])\n",
      "(ASXL transcriptional regulator 2[Title/Abstract]) AND ((PD-1[Title/Abstract]) OR (PDL-1[Title/Abstract])              OR (CTLA4[Title/Abstract])) AND (Cancer[Title/Abstract])\n",
      "DataFrame Complete\n",
      "docx Generated\n"
     ]
    }
   ],
   "source": [
    "df = pd.DataFrame(columns=['gene', 'info'])\n",
    "\n",
    "\n",
    "for gene in tf:\n",
    "    fullName = re.sub(r'[^A-Za-z0-9\\s]+', ' ', gene_fullName(gene))\n",
    "    query_list = gene_to_search(gene, fullName)\n",
    "\n",
    "\n",
    "    for search_phrase in query_list:\n",
    "        print(search_phrase)\n",
    "        search_df = search_Query_GPT(search_phrase, gene, fullName, keyword_Context, is_Gene)\n",
    "        for index, row in search_df.iterrows():\n",
    "            existing_row = df[df['info'] == row['info']]\n",
    "\n",
    "            if not existing_row.empty:\n",
    "                if gene not in existing_row['gene'].values[0]:\n",
    "                    df.loc[existing_row.index, 'gene'] += f\", {gene}\"\n",
    "            else:\n",
    "                row['gene'] = gene\n",
    "                df = pd.concat([df, row.to_frame().T], ignore_index=True)\n",
    "\n",
    "print(\"DataFrame Complete\")\n",
    "\n",
    "doc = Document()\n",
    "\n",
    "table = doc.add_table(rows=2 * len(df), cols=1)\n",
    "\n",
    "row_idx = 0\n",
    "for index, row in df.iterrows():\n",
    "    table.cell(row_idx, 0).text = str(row[\"gene\"])\n",
    "    row_idx += 1\n",
    "    abstract = row[\"info\"].split(\"Title: \")[-1].split(\"\\n\\n\", 1)[1]\n",
    "\n",
    "    wordcloud = generate_wordcloud(abstract, nlp1, nlp2, nlp3)\n",
    "\n",
    "    img_path = f\"wordcloud_{index}.png\"\n",
    "    if isinstance(wordcloud, WordCloud):\n",
    "        wordcloud.to_file(img_path)\n",
    "    else:\n",
    "        wordcloud.save(img_path)\n",
    "\n",
    "\n",
    "    table.cell(row_idx, 0).text = str(row[\"info\"])\n",
    "    paragraph = table.cell(row_idx, 0).paragraphs[0]\n",
    "    run = paragraph.add_run()\n",
    "    run.add_picture(img_path, width=Inches(6))\n",
    "\n",
    "\n",
    "    os.remove(img_path)\n",
    "\n",
    "    row_idx += 1\n",
    "\n",
    "doc.save(\"output.docx\")\n",
    "print(\"docx Generated\")"
   ]
  },
  {
   "cell_type": "markdown",
   "id": "9239d2d4",
   "metadata": {
    "id": "9239d2d4"
   },
   "source": [
    "# <font color='blue'>Gene Analysis and Insight Generation <a name=\"new-content\"></a></font>\n",
    "\n",
    "\n",
    "This notebook performs a comprehensive analysis of a list of genes and their potential relation to immunotherapy response. The analysis is based on literature search and subsequent processing using GPT models.\n",
    "\n",
    "The process is as follows:\n",
    "\n",
    "1. **Data Preparation**: An empty DataFrame is created with columns 'gene' and 'info'.\n",
    "\n",
    "2. **Literature Search**: For each gene in the list, a literature search is performed using the gene's name and its full name. The search results are further processed using a GPT model.\n",
    "\n",
    "3. **Data Aggregation**: The search results are aggregated into the DataFrame. If a gene is already present in the DataFrame, it is appended to the existing entry. Otherwise, a new entry is created.\n",
    "\n",
    "4. **Document Creation**: A Word document is created with a table that contains the gene names and their corresponding information. A word cloud is generated for each gene and added to the document.\n",
    "\n",
    "5. **Insight Generation**: For each gene, an insight is generated on how the gene's function possibly relates to immunotherapy response (PD-1, PDL-1, or CTLA4). The insights are based on the information aggregated in the DataFrame and are generated using a GPT model.\n",
    "\n",
    "The output of this notebook includes the DataFrame with the aggregated information, the Word document with the table and word clouds, and the insights for each gene.\n"
   ]
  },
  {
   "cell_type": "code",
   "execution_count": null,
   "id": "6392c5a0",
   "metadata": {
    "id": "6392c5a0"
   },
   "outputs": [],
   "source": [
    "template_Insight = \"\"\"<Question: In one sentence, explain how the {gene}'s function possibly\n",
    "relate to immunotherapy response (PD-1, PDL-1, or CTLA4)? If it cannot be derived\n",
    "from the current text, Just write 0\")>\n",
    "<Text: {abstract}>\n",
    "Your Answer:\"\"\"\n",
    "\n",
    "prompt_Insight = PromptTemplate(\n",
    "    input_variables=[\"abstract\", \"gene\"],\n",
    "    template=template_Insight,\n",
    ")\n",
    "\n",
    "keyword_Insight = LLMChain(\n",
    "    llm=ChatOpenAI(temperature=0),\n",
    "    prompt=prompt_Insight\n",
    ")"
   ]
  },
  {
   "cell_type": "code",
   "execution_count": null,
   "id": "70f684ca",
   "metadata": {
    "id": "70f684ca",
    "outputId": "360d0239-1cd0-457a-987f-862f83d23b42"
   },
   "outputs": [
    {
     "name": "stdout",
     "output_type": "stream",
     "text": [
      "Insight for WT1: The function of the WT1 tumor associated antigen displayed by the Bifidobacterium longum 420 oral cancer vaccine possibly enhances the efficacy of anti-PD-1 and anti-CTLA-4 antibodies in the mouse renal cell carcinoma model.\n",
      "Insight for WT1: 0\n",
      "Insight for WT1, MYD88: 0\n",
      "Insight for WT1: The function of WT1 possibly relates to immunotherapy response by inducing immune responses and promoting T-cell and WT1-specific IgG production when combined with anti-PD-1 nivolumab.\n",
      "Insight for WT1: The function of WT1 may possibly relate to immunotherapy response through the combined blockade of PD-1 and TIM3, leading to improved expansion of antigen-specific CD8+ T cells for adoptive immunotherapy.\n",
      "Insight for WT1: The function of WT1 possibly relates to immunotherapy response by affecting the ratio of WT1-specific cytotoxic lymphocytes (WT1-CTLs) to MPE CD8+ T cells and the fraction of central memory T (TCM) of WT1-CTLs, which may impact the efficacy of immunotherapies targeting PD-1, PDL-1, or CTLA4.\n",
      "Insight for WT1: The function of WT1 possibly relates to immunotherapy response by inducing WT1-specific cytotoxic T lymphocytes (CTLs) and helper T lymphocytes (HTLs), which can be enhanced by combination treatment with an anti-PD-1 antibody.\n",
      "Insight for WT1: The function of WT1 possibly relates to immunotherapy response by potentially enhancing the stimulatory potential of IL-15 DC vaccines and overcoming PD-1-mediated inhibition by antigen-specific T cells.\n",
      "Insight for WT1: The function of the WT1 cancer vaccine possibly relates to enhancing the response to anti-PD-1 antibody treatment, either alone or as an adjunct therapy, in patients with advanced urothelial cancer including bladder cancer.\n",
      "Insight for WT1: The function of WT1 may possibly relate to immunotherapy response by increasing the infiltration of CD4+ T cells, CD8+ T cells, and NK cells into the tumor, while the function of anti-PD-1 antibody may be to decrease PD-1 molecule expression on tumor-infiltrating CD8+ T cells.\n",
      "Insight for WT1: 0\n",
      "Insight for WT1: The function of WT1 possibly relates to immunotherapy response by enhancing T cell reactivity towards PD-L1 silenced AML cells.\n",
      "Insight for WT1: The function of WT1 may possibly relate to the immunotherapy response by inducing a systemic and tumor-specific immune stimulatory effect, as evidenced by the transient decrease in regulatory T cells and simultaneous increase in activated PD-1+ T cells after IRE treatment.\n",
      "Insight for WT1: 0\n",
      "Insight for WT1: The function of WT1 possibly relates to immunotherapy response through the negative regulation of tumor-responding CD8+ T cells by PD-L1.\n",
      "Insight for WT1: 0\n",
      "Insight for WT1: 0\n",
      "Insight for WT1: The function of the WT1 antigen is not mentioned in the text, so it cannot be determined how it relates to immunotherapy response.\n",
      "Insight for WT1: 0\n",
      "Insight for MYD88: 0\n",
      "Insight for MYD88: The function of MYD88 is not mentioned in the text, so it cannot be derived from the current text (0).\n",
      "Insight for MYD88: The function of MYD88 may potentially relate to the immunotherapy response by increasing the expression of DAMPs, NLRP3 inflammasome, and pro-inflammatory cytokines such as IL-1β, TNF-α, and IL-6, which are involved in the immune response targeted by PD-1, PDL-1, or CTLA4 inhibitors.\n",
      "Insight for MYD88: The function of MYD88 is not mentioned in the current text, so it cannot be derived. (0)\n",
      "Insight for MYD88: The function of MYD88 may possibly relate to immunotherapy response through its involvement in the Flagellin/TLR5 signaling pathway, which is activated by flagella and enhances the therapeutic efficacy of Salmonella-mediated cancer therapy.\n",
      "Insight for MYD88: 0\n",
      "Insight for MYD88: The function of MYD88 may possibly relate to the immunotherapy response by mediating the cytotoxic effects and pro-inflammatory cytokine storm induced by Ipilimumab and Nivolumab.\n",
      "Insight for MYD88: 0\n",
      "Insight for MYD88: The function of MYD88 may possibly relate to immunotherapy response by enhancing the effectiveness of PD-1 inhibition in combination with pixatimod.\n",
      "Insight for MYD88: 0\n",
      "Insight for MYD88: The function of MYD88 may possibly relate to immunotherapy response, specifically to the expression of CTLA4, which is associated with poor recurrence-free survival in urothelial cancer patients.\n",
      "Insight for MYD88: 0\n",
      "Insight for KLF4: The upregulation of KLF-4 by DAC treatment on CRC cells may potentially relate to immunotherapy response, specifically to PD-1, PDL-1, or CTLA4.\n",
      "Insight for KLF4: 0\n",
      "Insight for KLF4: The function of KLF4 may possibly relate to immunotherapy response by modulating the miR-34a/KLF4-signaling pathway, which influences macrophage polarization and myocardial inflammation induced by PD-1 inhibitor treatment.\n",
      "Insight for KLF4: 0\n",
      "Insight for BLM: 0\n",
      "Insight for BLM: The function of BLM (Bloom syndrome protein) is not mentioned in the text, so it cannot be derived how it possibly relates to immunotherapy response (PD-1, PDL-1, or CTLA4).\n",
      "Insight for BLM: The function of BLM possibly relates to immunotherapy response through its interplay with DNA repair, CD8, PD-L1, and PD-1, which can promote aggressive tumor phenotypes.\n",
      "Insight for BRD4: The function of BRD4 may possibly relate to immunotherapy response by being associated with higher CD47 expression, which is correlated with resistance to immune checkpoint inhibitors and lower response to PD-1, PDL-1, and CTLA4.\n",
      "Insight for BRD4: The function of BRD4 may potentially relate to immunotherapy response by increasing DNA damage and promoting T cell infiltration and priming, thus converting cold tumors to hot and enhancing the effectiveness of immunotherapy.\n",
      "Insight for BRD4: The function of BRD4 may possibly relate to immunotherapy response by regulating the expression of PD-1 and PD-L1, which are key molecules involved in T-cell exhaustion and immune checkpoint inhibition.\n",
      "Insight for BRD4: 0\n",
      "Insight for BRD4: BRD4's function possibly relates to immunotherapy response by regulating the expression of PD-L1 (CD274) at the mRNA level, along with other transcription factors (IRF1, STAT1, NFKB), and mutations or low miRNA abundance may explain high CD274 levels in patients who do not respond to treatment.\n",
      "Insight for BRD4: The function of BRD4 may possibly relate to immunotherapy response by regulating the expression of PD-L1, which is a target of PD-1, PDL-1, or CTLA4 inhibitors.\n",
      "Insight for BRD4: The function of BRD4 may potentially relate to immunotherapy response by enhancing the presentation of self-peptide and tumor recruitment of cytotoxic T lymphocytes, which can be further activated by combining with an anti-PD-1 antibody.\n",
      "Insight for BRD4: The function of BRD4 may relate to immunotherapy response by inhibiting the overexpression of PD-L1, which can weaken the effects of anti-PD-1 immunotherapy in liver cancer.\n",
      "Insight for BRD4: 0\n",
      "Insight for BRD4: The co-expression of BRD4 and PD-L1 is associated with poor overall survival in patients with acute myeloid leukemia, suggesting that BRD4 may affect the response to PD-1/PD-L1 immunotherapy.\n",
      "Insight for BRD4: The function of BRD4 may potentially relate to the immunotherapy response by regulating the expression of PD-L1 and influencing the state of anti-tumor immune responses in colon cancer.\n",
      "Insight for BRD4: BRD4 inhibition suppresses PD-L1 expression and may provide a potential method for blocking the PD-1/PD-L1 immune checkpoint in TNBC.\n",
      "Insight for BRD4: The function of BRD4 inhibition by AZD5153 possibly relates to the immunotherapy response by resetting TAMs from M2-type macrophages to M1-like macrophages, promoting pro-inflammatory cytokine secretion, and activating CD8+ cytotoxic T lymphocytes (CTLs) in vitro.\n",
      "Insight for BRD4: The function of BRD4 may possibly relate to immunotherapy response by mediating the transcriptional regulation of PD-L1 in pancreatic cancer cells.\n",
      "Insight for BRD4: The function of BRD4 may possibly relate to immunotherapy response by regulating the expression of the immune checkpoint ligand PD-L1.\n",
      "Insight for RAF1: 0\n",
      "Insight for RAF1: The function of RAF1 may possibly relate to immunotherapy response (PD-1, PDL-1, or CTLA4) as it is mentioned as one of the altered genes in advanced urothelial carcinoma and is associated with worse overall survival and failure-free survival.\n"
     ]
    },
    {
     "name": "stdout",
     "output_type": "stream",
     "text": [
      "Insight for RAF1: The RAF1 fusion in the melanoma may be associated with elevated expression of the RAS/RAF downstream co-effector ETV5 and ERK activation, which could potentially explain the profound response to MEK inhibitor therapy and suggest a possible relationship between RAF1 function and immunotherapy response.\n",
      "Insight for RAF1: 0\n",
      "Insight for SMAD2: The function of SMAD2 may possibly relate to immunotherapy response by enhancing the sensitivity of pancreatic cancer cells to gemcitabine chemotherapy, suppressing epithelial-mesenchymal transition (EMT) and immune escape, and reducing the expression of PD-L1 and CD47.\n",
      "Insight for SMAD2: The function of SMAD2 may possibly relate to immunotherapy response by promoting glycolysis and TGF-β secretion in the tumor microenvironment, leading to immunotherapy resistance in bladder cancer.\n",
      "Insight for SMAD2: 0\n",
      "Insight for SMAD2: SMAD2's function possibly relates to immunotherapy response by being involved in GC-derived TGF-β1-mediated CD8+ T cell dysfunction, which cannot be attenuated by PD-1 blockade.\n",
      "Insight for SMAD2: 0\n",
      "Insight for SMAD2: The function of SMAD2 may possibly relate to immunotherapy response by affecting the activation of CD8 T cells and the presence of TGFβ in nonirradiated tumors, which can be enhanced by TGFβ blockade in combination with radioimmunotherapy.\n",
      "Insight for SMAD2: The function of SMAD2 is not mentioned in the text, so it cannot be derived how it possibly relates to immunotherapy response.\n",
      "Insight for SMAD2: The function of SMAD2 possibly relates to immunotherapy response through its involvement in TGFβ signaling, which promotes the expression of immune checkpoint molecules such as PDL1 and CTLA4, as well as the activation and binding of NK cells to cancer cells.\n",
      "Insight for SMAD2: 0\n",
      "Insight for SMAD2: 0\n"
     ]
    }
   ],
   "source": [
    "# Iterate over the DataFrame and generate insights for each gene\n",
    "for index, row in df.iterrows():\n",
    "    gene = row[\"gene\"]\n",
    "    abstract = row[\"info\"].split(\"Title: \")[-1].split(\"\\n\\n\", 1)[1]\n",
    "\n",
    "    # Generate insight\n",
    "    insight = keyword_Insight.predict(abstract=abstract, gene=gene)\n",
    "\n",
    "    # Print the insight\n",
    "    print(f\"Insight for {gene}: {insight}\")\n"
   ]
  },
  {
   "cell_type": "code",
   "execution_count": null,
   "id": "960564ed",
   "metadata": {
    "id": "960564ed"
   },
   "outputs": [],
   "source": [
    "template_WT1 = \"\"\"<Question: Combining the information from the text provided, In one paragraph,\n",
    "explain how the WT1's function possibly relate to immunotherapy response (PD-1, PDL-1, or CTLA4).\")>\n",
    "<Text: {abstract}>\n",
    "Your Answer:\"\"\"\n",
    "\n",
    "prompt_WT1 = PromptTemplate(\n",
    "    input_variables=[\"abstract\"],\n",
    "    template=template_WT1,\n",
    ")\n",
    "\n",
    "keyword_WT1 = LLMChain(\n",
    "    llm=ChatOpenAI(temperature=0),\n",
    "    prompt=prompt_WT1\n",
    ")"
   ]
  },
  {
   "cell_type": "code",
   "execution_count": null,
   "id": "b81105ce",
   "metadata": {
    "id": "b81105ce",
    "outputId": "321afc64-0cca-490d-e419-dd8ca51f098a"
   },
   "outputs": [
    {
     "name": "stdout",
     "output_type": "stream",
     "text": [
      "The function of the WT1 tumor associated antigen possibly relates to immunotherapy response by enhancing the efficacy of anti-PD-1 and anti-CTLA-4 antibodies, inducing immune responses and promoting T-cell and WT1-specific IgG production, improving expansion of antigen-specific CD8+ T cells, affecting the ratio of WT1-specific cytotoxic lymphocytes to MPE CD8+ T cells and the fraction of central memory T cells, inducing WT1-specific cytotoxic T lymphocytes and helper T lymphocytes, enhancing the stimulatory potential of IL-15 DC vaccines, increasing the infiltration of CD4+ T cells, CD8+ T cells, and NK cells into the tumor, enhancing T cell reactivity towards PD-L1 silenced AML cells, and negatively regulating tumor-responding CD8+ T cells by PD-L1.\n"
     ]
    }
   ],
   "source": [
    "# Iterate over the DataFrame and generate insights for each gene\n",
    "abstract= '''\n",
    "Insight for WT1: The function of the WT1 tumor associated antigen displayed by the Bifidobacterium longum 420 oral cancer vaccine possibly enhances the efficacy of anti-PD-1 and anti-CTLA-4 antibodies in the mouse renal cell carcinoma model.\n",
    "Insight for WT1: 0\n",
    "Insight for WT1, MYD88: 0\n",
    "Insight for WT1: The function of WT1 possibly relates to immunotherapy response by inducing immune responses and promoting T-cell and WT1-specific IgG production when combined with anti-PD-1 nivolumab.\n",
    "Insight for WT1: The function of WT1 may possibly relate to immunotherapy response through the combined blockade of PD-1 and TIM3, leading to improved expansion of antigen-specific CD8+ T cells for adoptive immunotherapy.\n",
    "Insight for WT1: The function of WT1 possibly relates to immunotherapy response by affecting the ratio of WT1-specific cytotoxic lymphocytes (WT1-CTLs) to MPE CD8+ T cells and the fraction of central memory T (TCM) of WT1-CTLs, which may impact the efficacy of immunotherapies targeting PD-1, PDL-1, or CTLA4.\n",
    "Insight for WT1: The function of WT1 possibly relates to immunotherapy response by inducing WT1-specific cytotoxic T lymphocytes (CTLs) and helper T lymphocytes (HTLs), which can be enhanced by combination treatment with an anti-PD-1 antibody.\n",
    "Insight for WT1: The function of WT1 possibly relates to immunotherapy response by potentially enhancing the stimulatory potential of IL-15 DC vaccines and overcoming PD-1-mediated inhibition by antigen-specific T cells.\n",
    "Insight for WT1: The function of the WT1 cancer vaccine possibly relates to enhancing the response to anti-PD-1 antibody treatment, either alone or as an adjunct therapy, in patients with advanced urothelial cancer including bladder cancer.\n",
    "Insight for WT1: The function of WT1 may possibly relate to immunotherapy response by increasing the infiltration of CD4+ T cells, CD8+ T cells, and NK cells into the tumor, while the function of anti-PD-1 antibody may be to decrease PD-1 molecule expression on tumor-infiltrating CD8+ T cells.\n",
    "Insight for WT1: 0\n",
    "Insight for WT1: The function of WT1 possibly relates to immunotherapy response by enhancing T cell reactivity towards PD-L1 silenced AML cells.\n",
    "Insight for WT1: The function of WT1 may possibly relate to the immunotherapy response by inducing a systemic and tumor-specific immune stimulatory effect, as evidenced by the transient decrease in regulatory T cells and simultaneous increase in activated PD-1+ T cells after IRE treatment.\n",
    "Insight for WT1: 0\n",
    "Insight for WT1: The function of WT1 possibly relates to immunotherapy response through the negative regulation of tumor-responding CD8+ T cells by PD-L1.\n",
    "Insight for WT1: 0\n",
    "Insight for WT1: 0\n",
    "Insight for WT1: The function of the WT1 antigen is not mentioned in the text, so it cannot be determined how it relates to immunotherapy response.\n",
    "Insight for WT1: 0\n",
    "Insight for MYD88: 0\n",
    "Insight for MYD88: The function of MYD88 is not mentioned in the text, so it cannot be derived from the current text (0).\n",
    "'''\n",
    "answer = keyword_WT1.predict(abstract=abstract)\n",
    "\n",
    "# Print the insight\n",
    "print(answer)\n"
   ]
  },
  {
   "cell_type": "code",
   "execution_count": null,
   "id": "595cb570",
   "metadata": {
    "id": "595cb570"
   },
   "outputs": [],
   "source": []
  },
  {
   "cell_type": "code",
   "execution_count": null,
   "id": "f7bc616e",
   "metadata": {
    "id": "f7bc616e"
   },
   "outputs": [],
   "source": []
  },
  {
   "cell_type": "code",
   "execution_count": null,
   "id": "fba9b38f",
   "metadata": {
    "id": "fba9b38f"
   },
   "outputs": [],
   "source": []
  },
  {
   "cell_type": "code",
   "execution_count": null,
   "id": "c590ceaf",
   "metadata": {
    "id": "c590ceaf"
   },
   "outputs": [],
   "source": []
  },
  {
   "cell_type": "code",
   "execution_count": null,
   "id": "4b8cf6de",
   "metadata": {
    "id": "4b8cf6de"
   },
   "outputs": [],
   "source": []
  },
  {
   "cell_type": "code",
   "execution_count": null,
   "id": "5176971b",
   "metadata": {
    "id": "5176971b"
   },
   "outputs": [],
   "source": []
  }
 ],
 "metadata": {
  "colab": {
   "provenance": []
  },
  "kernelspec": {
   "display_name": "Python 3 (ipykernel)",
   "language": "python",
   "name": "python3"
  },
  "language_info": {
   "codemirror_mode": {
    "name": "ipython",
    "version": 3
   },
   "file_extension": ".py",
   "mimetype": "text/x-python",
   "name": "python",
   "nbconvert_exporter": "python",
   "pygments_lexer": "ipython3",
   "version": "3.11.5"
  }
 },
 "nbformat": 4,
 "nbformat_minor": 5
}
